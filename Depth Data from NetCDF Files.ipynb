{
 "cells": [
  {
   "cell_type": "markdown",
   "metadata": {},
   "source": [
    "## Depth Data from NetCDF Files\n",
    "\n",
    "1. Importing Libraries"
   ]
  },
  {
   "cell_type": "code",
   "execution_count": null,
   "metadata": {
    "vscode": {
     "languageId": "plaintext"
    }
   },
   "outputs": [],
   "source": [
    "import numpy as np\n",
    "import netCDF4"
   ]
  },
  {
   "cell_type": "markdown",
   "metadata": {},
   "source": [
    "2. Reading the NetCDF File and Exploring the File"
   ]
  },
  {
   "cell_type": "code",
   "execution_count": null,
   "metadata": {
    "vscode": {
     "languageId": "plaintext"
    }
   },
   "outputs": [],
   "source": [
    "f = netCDF4.Dataset('persiangulf.nc')\n",
    "print(f)\n",
    "print(f.variables.keys())"
   ]
  },
  {
   "cell_type": "markdown",
   "metadata": {},
   "source": [
    "3. Extracting Variables"
   ]
  },
  {
   "cell_type": "code",
   "execution_count": null,
   "metadata": {
    "vscode": {
     "languageId": "plaintext"
    }
   },
   "outputs": [],
   "source": [
    "lat = f.variables['lat']\n",
    "lon = f.variables['lon']\n",
    "elev = f.variables['elevation']"
   ]
  },
  {
   "cell_type": "markdown",
   "metadata": {},
   "source": [
    "4. Converting Variables to Arrays and Opening the Output File"
   ]
  },
  {
   "cell_type": "code",
   "execution_count": null,
   "metadata": {
    "vscode": {
     "languageId": "plaintext"
    }
   },
   "outputs": [],
   "source": [
    "x = np.array(lon[:])\n",
    "y = np.array(lat[:])\n",
    "z = np.array(elev[:])\n",
    "\n",
    "f = open('depth.txt', 'w')"
   ]
  },
  {
   "cell_type": "markdown",
   "metadata": {},
   "source": [
    "5. Iterating Through the Data and Closing the File"
   ]
  },
  {
   "cell_type": "code",
   "execution_count": null,
   "metadata": {
    "vscode": {
     "languageId": "plaintext"
    }
   },
   "outputs": [],
   "source": [
    "\n",
    "f =  open ('depth.txt' ,'w') \n",
    "for i in range(len(x)):\n",
    "    a = int(i)\n",
    "    for j in range(len(y)):\n",
    "        b = int(j)\n",
    "        if z[b,a] < 0:\n",
    "            f.write(str(x[a]))\n",
    "            f.write(' ')\n",
    "            f.write(str(y[b]))\n",
    "            f.write(' ')\n",
    "            f.write(str(z[b,a]))\n",
    "            f.write('\\n')\n",
    "f.close()        \n"
   ]
  }
 ],
 "metadata": {
  "language_info": {
   "name": "python"
  }
 },
 "nbformat": 4,
 "nbformat_minor": 2
}
